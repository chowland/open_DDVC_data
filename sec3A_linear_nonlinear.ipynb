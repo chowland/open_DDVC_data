{
 "cells": [
  {
   "cell_type": "markdown",
   "id": "108079fb",
   "metadata": {},
   "source": [
    "## Quantifying the errors associated with using a linear equation of state\n",
    "Here, we compare the buoyancy differences arising due to the linear equation of state used in the simulations against the full nonlinear equation of state provided by the `gsw` toolbox"
   ]
  },
  {
   "cell_type": "code",
   "execution_count": 1,
   "id": "9d9ed416",
   "metadata": {},
   "outputs": [],
   "source": [
    "import gsw\n",
    "import numpy as np"
   ]
  },
  {
   "cell_type": "code",
   "execution_count": 2,
   "id": "71afdff5",
   "metadata": {},
   "outputs": [],
   "source": [
    "# Expansion coefficients from Jenkins (2010)\n",
    "beta = 7.86e-4\n",
    "alpha = 3.87e-5"
   ]
  },
  {
   "cell_type": "markdown",
   "id": "a935489a",
   "metadata": {},
   "source": [
    "### Use Kerr & McConnochie data for temperature and salinity variations"
   ]
  },
  {
   "cell_type": "code",
   "execution_count": 3,
   "id": "35539827",
   "metadata": {},
   "outputs": [],
   "source": [
    "# Far-field temperature and salinity\n",
    "Tf = [0.3, 1.3, 2.3, 3.1, 3.8, 4.2, 4.7, 5.4]\n",
    "Cf = [34.4, 34.9, 35.0, 34.7, 34.6, 36.0, 36.0, 34.9]\n",
    "\n",
    "# Interface temperature and salinity\n",
    "Ti = [-1.45, -1.20, -0.91, -0.65, -0.48, -0.41, -0.28, -0.11]\n",
    "Ci = [24.5, 20.3, 15.3, 11.0, 8.1, 6.9, 4.7, 1.9]"
   ]
  },
  {
   "cell_type": "code",
   "execution_count": 4,
   "id": "073c7271",
   "metadata": {},
   "outputs": [],
   "source": [
    "# Record mid-values of temperature and salinity to use for\n",
    "# alternative linear EoS coefficients\n",
    "Cm = 0.5*(np.array(Cf) + np.array(Ci))\n",
    "Tm = 0.5*(np.array(Tf) + np.array(Ti))\n",
    "\n",
    "g_al = gsw.density.alpha(Cm, Tm, 1)\n",
    "g_be = gsw.density.beta(Cm, Tm, 1)"
   ]
  },
  {
   "cell_type": "code",
   "execution_count": 5,
   "id": "37635f63",
   "metadata": {},
   "outputs": [
    {
     "name": "stdout",
     "output_type": "stream",
     "text": [
      "Percentage error of density difference from linear approximation:\n",
      "[0.1677637  0.52107538 0.80930009 0.98521038 1.14690204 1.4024815\n",
      " 1.50809122 1.51283058]\n"
     ]
    }
   ],
   "source": [
    "# Calculate true water densities in ambient and at ice face\n",
    "# (at atmospheric pressure)\n",
    "dens_ambient = gsw.density.rho(Cf, Tf, 0)\n",
    "dens_ice = gsw.density.rho(Ci, Ti, 0)\n",
    "\n",
    "# Calculate temperature and salinity differences\n",
    "dT = np.array(Tf) - np.array(Ti)\n",
    "dC = np.array(Cf) - np.array(Ci)\n",
    "\n",
    "# Calculate different measures of density difference\n",
    "true_drho = dens_ambient - dens_ice\n",
    "linear_drho = dens_ambient*(beta*dC - alpha*dT)\n",
    "glin_drho = dens_ambient*(g_be*dC - g_al*dT)\n",
    "\n",
    "print('Percentage error of density difference from linear approximation:')\n",
    "print((linear_drho - true_drho)/true_drho*100)"
   ]
  },
  {
   "cell_type": "markdown",
   "id": "42bd5bac",
   "metadata": {},
   "source": [
    "These values are mentioned at the end of section III.A of the manuscript when discussing errors associated with a linear equation of state"
   ]
  }
 ],
 "metadata": {
  "kernelspec": {
   "display_name": "Python 3 (ipykernel)",
   "language": "python",
   "name": "python3"
  },
  "language_info": {
   "codemirror_mode": {
    "name": "ipython",
    "version": 3
   },
   "file_extension": ".py",
   "mimetype": "text/x-python",
   "name": "python",
   "nbconvert_exporter": "python",
   "pygments_lexer": "ipython3",
   "version": "3.10.5"
  }
 },
 "nbformat": 4,
 "nbformat_minor": 5
}
